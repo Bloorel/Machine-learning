{
  "nbformat": 4,
  "nbformat_minor": 0,
  "metadata": {
    "colab": {
      "provenance": []
    },
    "kernelspec": {
      "name": "python3",
      "display_name": "Python 3"
    },
    "language_info": {
      "name": "python"
    }
  },
  "cells": [
    {
      "cell_type": "code",
      "execution_count": null,
      "metadata": {
        "colab": {
          "base_uri": "https://localhost:8080/"
        },
        "id": "TiAOiwQdeYbi",
        "outputId": "dfc7c102-1ec5-4259-9b88-c25932c116b5"
      },
      "outputs": [
        {
          "output_type": "stream",
          "name": "stdout",
          "text": [
            "Downloading data from https://www.cs.toronto.edu/~kriz/cifar-10-python.tar.gz\n",
            "\u001b[1m170498071/170498071\u001b[0m \u001b[32m━━━━━━━━━━━━━━━━━━━━\u001b[0m\u001b[37m\u001b[0m \u001b[1m4s\u001b[0m 0us/step\n",
            "Epoch 1/20\n",
            "\u001b[1m 17/625\u001b[0m \u001b[37m━━━━━━━━━━━━━━━━━━━━\u001b[0m \u001b[1m31:18\u001b[0m 3s/step - accuracy: 0.1219 - loss: 2.4852"
          ]
        }
      ],
      "source": [
        "# Завдання 2. VGG16 + Transfer Learning для CIFAR-10\n",
        "\n",
        "import numpy as np\n",
        "import matplotlib.pyplot as plt\n",
        "import tensorflow as tf\n",
        "from tensorflow.keras import callbacks  # <== Додано це!\n",
        "from tensorflow.keras.applications import VGG16\n",
        "from tensorflow.keras.models import Model\n",
        "from tensorflow.keras.layers import Dense, Flatten, Dropout, GlobalAveragePooling2D\n",
        "from sklearn.metrics import classification_report\n",
        "\n",
        "# 1. Завантаження CIFAR-10\n",
        "(x_train, y_train), (x_test, y_test) = tf.keras.datasets.cifar10.load_data()\n",
        "x_train = x_train.astype('float32') / 255.0\n",
        "x_test = x_test.astype('float32') / 255.0\n",
        "y_train_cat = tf.keras.utils.to_categorical(y_train, 10)\n",
        "y_test_cat = tf.keras.utils.to_categorical(y_test, 10)\n",
        "\n",
        "# 2. Завантаження базової моделі VGG16 без верхніх шарів\n",
        "base_model = VGG16(weights='imagenet', include_top=False, input_shape=(32,32,3))\n",
        "\n",
        "# 3. Замороження базових шарів (всі крім останніх 4-х)\n",
        "for layer in base_model.layers[:-4]:\n",
        "    layer.trainable = False\n",
        "\n",
        "# 4. Додавання власних шарів поверх VGG16\n",
        "x = base_model.output\n",
        "x = GlobalAveragePooling2D()(x)\n",
        "x = Dense(256, activation='relu')(x)\n",
        "x = Dropout(0.5)(x)\n",
        "predictions = Dense(10, activation='softmax')(x)\n",
        "\n",
        "model_vgg = Model(inputs=base_model.input, outputs=predictions)\n",
        "\n",
        "# 5. Компіляція моделі\n",
        "model_vgg.compile(optimizer='adam', loss='categorical_crossentropy', metrics=['accuracy'])\n",
        "\n",
        "# 6. Колбеки\n",
        "early_stop = callbacks.EarlyStopping(patience=5, restore_best_weights=True)\n",
        "reduce_lr = callbacks.ReduceLROnPlateau(factor=0.5, patience=3)\n",
        "\n",
        "# 7. Навчання моделі\n",
        "history_vgg = model_vgg.fit(x_train, y_train_cat, epochs=20, batch_size=64,\n",
        "                            validation_split=0.2, callbacks=[early_stop, reduce_lr])\n",
        "\n",
        "# 8. Summary моделі\n",
        "model_vgg.summary()\n",
        "\n",
        "# 9. Графіки втрат і точності\n",
        "plt.figure(figsize=(12,5))\n",
        "plt.subplot(1,2,1)\n",
        "plt.plot(history_vgg.history['loss'], label='train loss')\n",
        "plt.plot(history_vgg.history['val_loss'], label='val loss')\n",
        "plt.legend()\n",
        "plt.title('Loss VGG16')\n",
        "\n",
        "plt.subplot(1,2,2)\n",
        "plt.plot(history_vgg.history['accuracy'], label='train acc')\n",
        "plt.plot(history_vgg.history['val_accuracy'], label='val acc')\n",
        "plt.legend()\n",
        "plt.title('Accuracy VGG16')\n",
        "plt.show()\n",
        "\n",
        "# 10. Класифікаційний звіт\n",
        "y_pred_vgg = model_vgg.predict(x_test)\n",
        "y_pred_classes_vgg = np.argmax(y_pred_vgg, axis=1)\n",
        "\n",
        "class_names = ['airplane','automobile','bird','cat','deer','dog','frog','horse','ship','truck']\n",
        "print(classification_report(y_test, y_pred_classes_vgg, target_names=class_names))\n",
        "\n",
        "# 11. Візуалізація розпізнавання\n",
        "plt.figure(figsize=(10,10))\n",
        "for i in range(16):\n",
        "    plt.subplot(4,4,i+1)\n",
        "    plt.imshow(x_test[i])\n",
        "    plt.title(f\"True: {class_names[int(y_test[i])]}\\nPred: {class_names[y_pred_classes_vgg[i]]}\")\n",
        "    plt.axis('off')\n",
        "plt.show()\n"
      ]
    }
  ]
}