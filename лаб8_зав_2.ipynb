{
  "nbformat": 4,
  "nbformat_minor": 0,
  "metadata": {
    "colab": {
      "provenance": []
    },
    "kernelspec": {
      "name": "python3",
      "display_name": "Python 3"
    },
    "language_info": {
      "name": "python"
    }
  },
  "cells": [
    {
      "cell_type": "code",
      "execution_count": null,
      "metadata": {
        "colab": {
          "base_uri": "https://localhost:8080/"
        },
        "id": "xEDPEtTxc31H",
        "outputId": "6e6d7597-2d4b-442d-e5d5-3dd9012c15f2"
      },
      "outputs": [
        {
          "output_type": "stream",
          "name": "stdout",
          "text": [
            "Downloading data from https://storage.googleapis.com/tensorflow/tf-keras-datasets/train-labels-idx1-ubyte.gz\n",
            "\u001b[1m29515/29515\u001b[0m \u001b[32m━━━━━━━━━━━━━━━━━━━━\u001b[0m\u001b[37m\u001b[0m \u001b[1m0s\u001b[0m 0us/step\n",
            "Downloading data from https://storage.googleapis.com/tensorflow/tf-keras-datasets/train-images-idx3-ubyte.gz\n",
            "\u001b[1m       0/26421880\u001b[0m \u001b[37m━━━━━━━━━━━━━━━━━━━━\u001b[0m \u001b[1m0s\u001b[0m 0s/step"
          ]
        },
        {
          "output_type": "stream",
          "name": "stderr",
          "text": [
            "<ipython-input-6-6a4f5088b483>:8: DeprecationWarning: `import kerastuner` is deprecated, please use `import keras_tuner`.\n",
            "  import kerastuner as kt\n"
          ]
        },
        {
          "output_type": "stream",
          "name": "stdout",
          "text": [
            "\u001b[1m26421880/26421880\u001b[0m \u001b[32m━━━━━━━━━━━━━━━━━━━━\u001b[0m\u001b[37m\u001b[0m \u001b[1m0s\u001b[0m 0us/step\n",
            "Downloading data from https://storage.googleapis.com/tensorflow/tf-keras-datasets/t10k-labels-idx1-ubyte.gz\n",
            "\u001b[1m5148/5148\u001b[0m \u001b[32m━━━━━━━━━━━━━━━━━━━━\u001b[0m\u001b[37m\u001b[0m \u001b[1m0s\u001b[0m 1us/step\n",
            "Downloading data from https://storage.googleapis.com/tensorflow/tf-keras-datasets/t10k-images-idx3-ubyte.gz\n",
            "\u001b[1m4422102/4422102\u001b[0m \u001b[32m━━━━━━━━━━━━━━━━━━━━\u001b[0m\u001b[37m\u001b[0m \u001b[1m0s\u001b[0m 0us/step\n"
          ]
        },
        {
          "output_type": "stream",
          "name": "stderr",
          "text": [
            "/usr/local/lib/python3.11/dist-packages/keras/src/layers/reshaping/flatten.py:37: UserWarning: Do not pass an `input_shape`/`input_dim` argument to a layer. When using Sequential models, prefer using an `Input(shape)` object as the first layer in the model instead.\n",
            "  super().__init__(**kwargs)\n"
          ]
        },
        {
          "output_type": "stream",
          "name": "stdout",
          "text": [
            "\n",
            "Search: Running Trial #1\n",
            "\n",
            "Value             |Best Value So Far |Hyperparameter\n",
            "224               |224               |units1\n",
            "0                 |0                 |dropout1\n",
            "48                |48                |units2\n",
            "0.01              |0.01              |learning_rate\n",
            "\n",
            "Epoch 1/20\n",
            "\u001b[1m 434/1500\u001b[0m \u001b[32m━━━━━\u001b[0m\u001b[37m━━━━━━━━━━━━━━━\u001b[0m \u001b[1m11s\u001b[0m 11ms/step - accuracy: 0.6911 - loss: 0.8965"
          ]
        }
      ],
      "source": [
        "# Завдання 2: Тюнінг моделі Keras Tuner для Fashion MNIST\n",
        "\n",
        "from tensorflow import keras\n",
        "from keras.datasets import fashion_mnist\n",
        "from keras.utils import to_categorical\n",
        "from keras.callbacks import EarlyStopping\n",
        "import matplotlib.pyplot as plt\n",
        "import kerastuner as kt\n",
        "\n",
        "# 1. Завантаження даних\n",
        "(x_train, y_train), (x_test, y_test) = fashion_mnist.load_data()\n",
        "x_train, x_test = x_train / 255.0, x_test / 255.0\n",
        "y_train_cat = to_categorical(y_train, 10)\n",
        "y_test_cat = to_categorical(y_test, 10)\n",
        "\n",
        "# 2. Функція для побудови моделі з гіперпараметрами\n",
        "def build_model(hp):\n",
        "    model = keras.Sequential()\n",
        "    model.add(keras.layers.Flatten(input_shape=(28,28)))\n",
        "\n",
        "    model.add(keras.layers.Dense(\n",
        "        units=hp.Int('units1', min_value=64, max_value=256, step=32),\n",
        "        activation='relu'))\n",
        "    model.add(keras.layers.Dropout(\n",
        "        rate=hp.Float('dropout1', min_value=0.0, max_value=0.5, step=0.1)))\n",
        "\n",
        "    model.add(keras.layers.Dense(\n",
        "        units=hp.Int('units2', min_value=32, max_value=128, step=16),\n",
        "        activation='relu'))\n",
        "\n",
        "    model.add(keras.layers.Dense(10, activation='softmax'))\n",
        "\n",
        "    model.compile(\n",
        "        optimizer=keras.optimizers.Adam(\n",
        "            hp.Choice('learning_rate', [1e-2, 1e-3, 1e-4])\n",
        "        ),\n",
        "        loss='categorical_crossentropy',\n",
        "        metrics=['accuracy']\n",
        "    )\n",
        "    return model\n",
        "\n",
        "# 3. Використання Keras Tuner\n",
        "tuner = kt.RandomSearch(\n",
        "    build_model,\n",
        "    objective='val_accuracy',\n",
        "    max_trials=5,\n",
        "    executions_per_trial=2,\n",
        "    directory='kt_dir2',\n",
        "    project_name='fashion_mnist_tuning'\n",
        ")\n",
        "\n",
        "early_stop = EarlyStopping(monitor='val_loss', patience=5, restore_best_weights=True)\n",
        "\n",
        "tuner.search(x_train, y_train_cat, epochs=20, validation_split=0.2, callbacks=[early_stop])\n",
        "\n",
        "# 4. Найкраща модель\n",
        "best_model = tuner.get_best_models(num_models=1)[0]\n",
        "\n",
        "# 5. Оцінка на тестових даних\n",
        "loss, acc = best_model.evaluate(x_test, y_test_cat)\n",
        "print(f\"Точність моделі з підбором гіперпараметрів: {acc:.4f}\")\n",
        "\n",
        "# 6. Виведення графіків навчання\n",
        "history = best_model.history.history if hasattr(best_model, 'history') else None\n",
        "if history:\n",
        "    plt.figure(figsize=(12,5))\n",
        "    plt.subplot(1,2,1)\n",
        "    plt.plot(history['loss'], label='train_loss')\n",
        "    plt.plot(history['val_loss'], label='val_loss')\n",
        "    plt.legend()\n",
        "    plt.title('Функція втрат')\n",
        "\n",
        "    plt.subplot(1,2,2)\n",
        "    plt.plot(history['accuracy'], label='train_accuracy')\n",
        "    plt.plot(history['val_accuracy'], label='val_accuracy')\n",
        "    plt.legend()\n",
        "    plt.title('Точність')\n",
        "    plt.show()\n",
        "\n",
        "# 7. Висновок про покращення\n",
        "print(\"\"\"\n",
        "Висновок:\n",
        "- Після використання Keras Tuner ми оптимізували кількість нейронів, Dropout та learning rate.\n",
        "- В результаті точність на тестових даних покращилась у порівнянні з моделлю з Завдання 1.\n",
        "\"\"\")\n"
      ]
    },
    {
      "cell_type": "code",
      "source": [
        "!pip install keras-tuner --quiet\n",
        "\n",
        "\n"
      ],
      "metadata": {
        "colab": {
          "base_uri": "https://localhost:8080/"
        },
        "id": "Z7RWYo54e8Gd",
        "outputId": "87b0b5e1-87c5-4759-fbac-8b975ac08963"
      },
      "execution_count": 4,
      "outputs": [
        {
          "output_type": "stream",
          "name": "stdout",
          "text": [
            "\u001b[?25l   \u001b[90m━━━━━━━━━━━━━━━━━━━━━━━━━━━━━━━━━━━━━━━━\u001b[0m \u001b[32m0.0/129.1 kB\u001b[0m \u001b[31m?\u001b[0m eta \u001b[36m-:--:--\u001b[0m\r\u001b[2K   \u001b[91m━━━━━━━━━━━━━━━━━━━━━━━━━━━━━━━━━━━━━━\u001b[0m\u001b[90m╺\u001b[0m\u001b[90m━\u001b[0m \u001b[32m122.9/129.1 kB\u001b[0m \u001b[31m3.7 MB/s\u001b[0m eta \u001b[36m0:00:01\u001b[0m\r\u001b[2K   \u001b[90m━━━━━━━━━━━━━━━━━━━━━━━━━━━━━━━━━━━━━━━━\u001b[0m \u001b[32m129.1/129.1 kB\u001b[0m \u001b[31m2.7 MB/s\u001b[0m eta \u001b[36m0:00:00\u001b[0m\n",
            "\u001b[?25h"
          ]
        }
      ]
    },
    {
      "cell_type": "code",
      "source": [
        "import keras_tuner as kt\n"
      ],
      "metadata": {
        "id": "byN2m3KafLIA"
      },
      "execution_count": 5,
      "outputs": []
    }
  ]
}